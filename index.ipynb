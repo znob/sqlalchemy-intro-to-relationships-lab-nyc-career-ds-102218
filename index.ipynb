{
 "cells": [
  {
   "cell_type": "markdown",
   "metadata": {},
   "source": [
    "# SQLAlchemy One to Many Lab"
   ]
  },
  {
   "cell_type": "markdown",
   "metadata": {},
   "source": [
    "## Objectives\n",
    "\n",
    "1.  Create a \"has many\"/\"belongs to\" relationship with SQLAlchemy\n",
    "2.  Add data to a database containing a \"has many\"/\"belongs to\" relationship\n",
    "3.  Query from a database containing a \"has many\"/\"belongs to\" relationship"
   ]
  },
  {
   "cell_type": "markdown",
   "metadata": {},
   "source": [
    "## Actors and Roles\n",
    "\n",
    "In this lab, we will use SQLAlchemy to programmatically recreate the relationship that existing between actors and all of their roles.  All actors have many roles throughout their careers.  Likewise, each instance of an `Actor` class will have many instances of the `Role` class.\n",
    "\n",
    "We first will create the database and the models and then populate the tables with a couple well-known actors and roles.  Finally, we will practice querying from the relational database to see which actors have which roles."
   ]
  },
  {
   "cell_type": "markdown",
   "metadata": {},
   "source": [
    "### Create the schema\n",
    "\n",
    "We will write the code for our two model classes in `models.py`.  Alternatively, we could write both models in `models.py` then write Alembic migrations to establish the association between the two models.\n",
    "\n",
    "**`Role`**\n",
    "\n",
    "Every `Role` will have an `id` serving as the primary key and a `character` column containing the name for every role.  \n",
    "\n",
    "To set up the \"belongs to\" relationship, we will need to add a column called `actor_id` that will use the `ForgeignKey()` function to tell SQLALchemy that this column can contain only values found in the `actors.id` column of the `actors` table.\n",
    "\n",
    "We also need to use the `relationship` function to tell the ORM that our `Role` class should be associated with the `Actor` class.\n",
    "\n",
    "In this case, our `relationship` function will accept `'Actor'` as an argument, and its `back_populates` parameter will point back to the `'roles'` table.  The aforementioned `relationship` function should be set to an `actor` variable.  Doing so, lets us obtain the proper Actor instance when we query `Role.actor`."
   ]
  },
  {
   "cell_type": "markdown",
   "metadata": {},
   "source": [
    "**`Actor`**\n",
    "\n",
    "Every `Actor` will have an `id` for its primary key and a `name` column.\n",
    "\n",
    "We also will need to establish the \"one to many\" relationship by setting a `roles` variable to a `relationship` function that produces a list of all Role instances associated with that particular Actor instance.  In this case, `relationship` will accept `'Role'` as an argument.  It will `order_by` the resulting list by `Role.id` and its `back_populates` parameter will refer back to an `'actor'`."
   ]
  },
  {
   "cell_type": "markdown",
   "metadata": {},
   "source": [
    "### Populate the database\n",
    "\n",
    "Once you have built the Actor and Role classes and their association, run `python models.py` in the terminal to execute the file to create the database.  Now we can go to the `seeds.py` file to fill in the tables with some actors and roles!\n",
    "\n",
    "Create the following actors:\n",
    "* Tom Hanks\n",
    "* Gwyneth Paltrow\n",
    "* an actor of your choice\n",
    "\n",
    "Associate the actors to the following roles.  There should be eight roles in total.\n",
    "* Tom Hanks\n",
    "    * Forrest Gump\n",
    "    * Jim Lovell\n",
    "    * Woody\n",
    "    * Robert Langdon\n",
    "* Gwyneth Paltrow\n",
    "    * Pepper Potts\n",
    "    * Margot Tenenbaum\n",
    "* An actor/actress of your choice\n",
    "    * a role of your choice\n",
    "    * a role of your choice    \n",
    "\n",
    "Note that we can create instances of the Role class while making the association in the following manner: \n",
    "\n",
    "```python\n",
    "woody_harrelson = Actor(name='Woody Harrelson')\n",
    "woody_harrelson.roles = [Role(character='Detective Marty Hart'), Role(character='Mickey Knox')]\n",
    "```"
   ]
  },
  {
   "cell_type": "markdown",
   "metadata": {},
   "source": [
    "Once our `seed.py` is filled with all of our actors, run `python seed.py` in the terminal to execute the file and persist these actors to the database.\n",
    "\n",
    "> **Note**: If our models or seed files are entered into the database incorrectly, we can delete the `actors.db` file and start over"
   ]
  },
  {
   "cell_type": "markdown",
   "metadata": {},
   "source": [
    "### Query the related data"
   ]
  },
  {
   "cell_type": "markdown",
   "metadata": {},
   "source": [
    "In `queries.py` write the following queries:\n",
    "\n",
    "* `return_gwyneth_paltrows_roles` should return the list of Gwyneth Paltrow's Role instances\n",
    "* `test_return_tom_hanks_2nd_role` should return the Tom Hanks' second Role instance"
   ]
  }
 ],
 "metadata": {
  "kernelspec": {
   "display_name": "Python 3",
   "language": "python",
   "name": "python3"
  },
  "language_info": {
   "codemirror_mode": {
    "name": "ipython",
    "version": 3
   },
   "file_extension": ".py",
   "mimetype": "text/x-python",
   "name": "python",
   "nbconvert_exporter": "python",
   "pygments_lexer": "ipython3",
   "version": "3.6.6"
  }
 },
 "nbformat": 4,
 "nbformat_minor": 2
}
